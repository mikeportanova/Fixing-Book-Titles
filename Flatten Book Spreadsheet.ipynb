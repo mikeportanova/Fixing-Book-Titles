{
 "cells": [
  {
   "cell_type": "code",
   "execution_count": 1,
   "metadata": {},
   "outputs": [],
   "source": [
    "import pandas as pd\n",
    "import numpy as np\n",
    "import matplotlib.pyplot as plt\n",
    "import math\n",
    "import re\n",
    "import datetime\n",
    "import requests as req\n",
    "from pprint import pprint as pp\n",
    "%matplotlib inline\n"
   ]
  },
  {
   "cell_type": "code",
   "execution_count": 2,
   "metadata": {},
   "outputs": [
    {
     "name": "stdout",
     "output_type": "stream",
     "text": [
      "*** formula/tFuncVar unknown FuncID:185\n"
     ]
    }
   ],
   "source": [
    "df = pd.read_excel('Book Title List.xls',sheet_name=\"working\",index_col = None,parse_dates=False)"
   ]
  },
  {
   "cell_type": "code",
   "execution_count": 3,
   "metadata": {},
   "outputs": [
    {
     "data": {
      "text/plain": [
       "pdf                    420\n",
       "Paperback              259\n",
       "paperback                4\n",
       "SmashWords               2\n",
       "Kindle                   1\n",
       "ePub                     1\n",
       "Paperback - 2nd ed.      1\n",
       "mobi                     1\n",
       "Paperback - 1st ed.      1\n",
       "SPANISH                  1\n",
       "SW                       1\n",
       "Name: format, dtype: int64"
      ]
     },
     "execution_count": 3,
     "metadata": {},
     "output_type": "execute_result"
    }
   ],
   "source": [
    "df.format.value_counts()"
   ]
  },
  {
   "cell_type": "code",
   "execution_count": 4,
   "metadata": {},
   "outputs": [],
   "source": [
    "df['format'] = df['format'].str.lower()"
   ]
  },
  {
   "cell_type": "code",
   "execution_count": 5,
   "metadata": {},
   "outputs": [
    {
     "data": {
      "text/plain": [
       "['pdf',\n",
       " 'paperback',\n",
       " 'smashwords',\n",
       " 'spanish',\n",
       " 'kindle',\n",
       " 'mobi',\n",
       " 'sw',\n",
       " 'paperback - 1st ed.',\n",
       " 'paperback - 2nd ed.',\n",
       " 'epub']"
      ]
     },
     "execution_count": 5,
     "metadata": {},
     "output_type": "execute_result"
    }
   ],
   "source": [
    "list(df.format.value_counts().index)"
   ]
  },
  {
   "cell_type": "markdown",
   "metadata": {},
   "source": [
    "#### Create a list of dictionaries, each of which contains all of the data from a single title\n",
    "First, loop over colA. If there's a value, create a dictionary. If not, continue.\n",
    "\n",
    "Second, take the index of the colA value, add data to dictionary from each row, creating an array out of multiple column values.\n",
    "\n",
    "Keep doing this until the loop finds another value."
   ]
  },
  {
   "cell_type": "code",
   "execution_count": 6,
   "metadata": {},
   "outputs": [],
   "source": [
    "titleList = []\n",
    "def makeDict(df):\n",
    "    for index, item in enumerate(df.title):\n",
    "        #find the start and stop indicies for each title block\n",
    "        if type(item) == str:\n",
    "            index_start = index\n",
    "            for subIndex, subItem in enumerate(df.title[index+1:]):\n",
    "                if type(subItem) == str:\n",
    "                    index_stop = subIndex+index+1\n",
    "                    break\n",
    "            titleList.append(df[index_start:index_stop].to_dict())\n",
    "            #use the pandas to_dict method of slices of the dataframe\n",
    "    return titleList\n",
    "        "
   ]
  },
  {
   "cell_type": "code",
   "execution_count": null,
   "metadata": {},
   "outputs": [],
   "source": []
  },
  {
   "cell_type": "markdown",
   "metadata": {},
   "source": [
    "#### Flatten the email_usually column"
   ]
  },
  {
   "cell_type": "code",
   "execution_count": 7,
   "metadata": {},
   "outputs": [],
   "source": [
    "titleDict = makeDict(df)"
   ]
  },
  {
   "cell_type": "code",
   "execution_count": 8,
   "metadata": {},
   "outputs": [],
   "source": [
    "def moveFromEmailUsually(titleDict):\n",
    "    for item in titleDict:\n",
    "        for value in item['email_usually'].values():\n",
    "            \n",
    "            #move the emails found in this column\n",
    "            if \"@\" in str(value):\n",
    "                if 'email_from_email_usually' in item.keys():\n",
    "                    \n",
    "                    #gotta check for previous values and, if needed, make/append list\n",
    "                    if type(item['email_from_email_usually'])==list:\n",
    "                        item['email_from_email_usually'].append(value)\n",
    "                    else:\n",
    "                        values = item['email_from_email_usually']\n",
    "                        values = [values]\n",
    "                        values.append(value)\n",
    "                        item['email_from_email_usually'] = values\n",
    "                else:\n",
    "                    item['email_from_email_usually'] = value\n",
    "                \n",
    "            # move the ISBNs found in this column. ACTUALLY, should do this when building all\n",
    "            # ISBNs with their mappings. Commenting out for now.\n",
    "            elif re.search(r\"^\\d+\",str(value)):\n",
    "                continue\n",
    "#                 item['isbn_from_email_usually'] = value\n",
    "            elif str(value)=='nan':\n",
    "                continue\n",
    "                \n",
    "            #grab the rest of the trash in there\n",
    "            else:\n",
    "                item['extra_from_email_usually'] = value\n",
    "    return titleDict\n",
    "            "
   ]
  },
  {
   "cell_type": "code",
   "execution_count": 9,
   "metadata": {},
   "outputs": [],
   "source": [
    "titleDict = moveFromEmailUsually(titleDict)"
   ]
  },
  {
   "cell_type": "markdown",
   "metadata": {},
   "source": [
    "#### Flatten the people_usually column"
   ]
  },
  {
   "cell_type": "code",
   "execution_count": 10,
   "metadata": {},
   "outputs": [],
   "source": [
    "def moveFromPeopleUsually(titleDict):\n",
    "    for item in titleDict:\n",
    "        for value in item['people_usually'].values():\n",
    "            # Gonna just dump everything into an array in a single column. We can\n",
    "            # flatten later if we think it's necessary.\n",
    "            if str(value) == 'nan':\n",
    "                continue \n",
    "            elif 'people_from_people_usually' in item.keys():\n",
    "                if type(item['people_from_people_usually'])==list:\n",
    "                    item['people_from_people_usually'].append(value)\n",
    "                else:\n",
    "                    values = item['people_from_people_usually']\n",
    "                    values = [values]\n",
    "                    values.append(value)\n",
    "                    item['people_from_people_usually'] = values\n",
    "            else:\n",
    "                item['people_from_people_usually'] = value\n",
    "    return titleDict"
   ]
  },
  {
   "cell_type": "code",
   "execution_count": 11,
   "metadata": {},
   "outputs": [],
   "source": [
    "titleDict = moveFromPeopleUsually(titleDict)"
   ]
  },
  {
   "cell_type": "markdown",
   "metadata": {},
   "source": [
    "#### Flatten the genre column"
   ]
  },
  {
   "cell_type": "code",
   "execution_count": 12,
   "metadata": {},
   "outputs": [],
   "source": [
    "def moveFromGenres(titleDict):\n",
    "    for item in titleDict:\n",
    "        for value in item['genres'].values():\n",
    "            # Gonna just dump everything into an array in a single column. We can\n",
    "            # flatten later if we think it's necessary.\n",
    "            if str(value) == 'nan':\n",
    "                continue \n",
    "            elif 'genres_from_genres' in item.keys():\n",
    "                if type(item['genres_from_genres'])==list:\n",
    "                    item['genres_from_genres'].append(value)\n",
    "                else:\n",
    "                    values = item['genres_from_genres']\n",
    "                    values = [values]\n",
    "                    values.append(value)\n",
    "                    item['genres_from_genres'] = values\n",
    "            else:\n",
    "                item['genres_from_genres'] = [value]\n",
    "    return titleDict"
   ]
  },
  {
   "cell_type": "code",
   "execution_count": 13,
   "metadata": {},
   "outputs": [],
   "source": [
    "titleDict = moveFromGenres(titleDict)"
   ]
  },
  {
   "cell_type": "markdown",
   "metadata": {},
   "source": [
    "## I will come back to the isbn and format columns at the end since they are trickier and relate to one another in some cryptic way."
   ]
  },
  {
   "cell_type": "markdown",
   "metadata": {},
   "source": [
    "#### Flatten the bisac_code column\n",
    "##### There are some weird things like \"2nd ed\" in the column. Handle that later."
   ]
  },
  {
   "cell_type": "code",
   "execution_count": 14,
   "metadata": {},
   "outputs": [],
   "source": [
    "def moveFromBisacCode(titleDict):\n",
    "    for item in titleDict:\n",
    "        for value in item['bisac_code'].values():\n",
    "            # Gonna just dump everything into an array in a single column. We can\n",
    "            # flatten later if we think it's necessary.\n",
    "            if str(value) == 'nan':\n",
    "                continue \n",
    "            elif 'bisac_code_flat' in item.keys():\n",
    "                if type(item['bisac_code_flat'])==list:\n",
    "                    item['bisac_code_flat'].append(value)\n",
    "                else:\n",
    "                    values = item['bisac_code_flat']\n",
    "                    values = [values]\n",
    "                    values.append(value)\n",
    "                    item['bisac_code_flat'] = values\n",
    "            else:\n",
    "                item['bisac_code_flat'] = value\n",
    "    return titleDict"
   ]
  },
  {
   "cell_type": "code",
   "execution_count": 15,
   "metadata": {},
   "outputs": [],
   "source": [
    "titleDict = moveFromBisacCode(titleDict)"
   ]
  },
  {
   "cell_type": "markdown",
   "metadata": {},
   "source": [
    "### Not yet, but here's how we're gonna do the ISBN flattening:"
   ]
  },
  {
   "cell_type": "markdown",
   "metadata": {},
   "source": [
    "Okay, I think what's happening with the ISBNs is that the format column DOES map to the isbn_col (and the isbns in the email_usually col).\n",
    "\n",
    "the first ISBN10 in the isbn_col is the pdf/ePub ISBN10. Below that is the ISBN13 for the ePub (it doesn't have a format corresponding to it, but i think that's what's happening here).\n",
    "\n",
    "Then, the ISBN13 (usually 13) in the email_usually  column is the paperback's ISBN13. In the isbn_col, mapped to \"paperback\" is the paperback ISBN10, i think."
   ]
  },
  {
   "cell_type": "markdown",
   "metadata": {},
   "source": [
    "#### LOL, forgot to flatten the title and subtitle columns"
   ]
  },
  {
   "cell_type": "code",
   "execution_count": 16,
   "metadata": {},
   "outputs": [],
   "source": [
    "def flattenTitles(titleDict):\n",
    "    for item in titleDict:\n",
    "        for value in item['title'].values():\n",
    "            if str(value) == 'nan':\n",
    "                continue \n",
    "            else:\n",
    "                item['title_flat'] = value\n",
    "        for subtitle in item['subtitle'].values():\n",
    "            if str(subtitle) == 'nan':\n",
    "                continue \n",
    "            else:\n",
    "                item['subtitle_flat'] = subtitle\n",
    "    return titleDict"
   ]
  },
  {
   "cell_type": "code",
   "execution_count": 17,
   "metadata": {},
   "outputs": [],
   "source": [
    "titleDict = flattenTitles(titleDict)"
   ]
  },
  {
   "cell_type": "code",
   "execution_count": 41,
   "metadata": {},
   "outputs": [
    {
     "data": {
      "text/plain": [
       "{'email_from_email_usually': 'trish117@earthlink.net',\n",
       " 'people_from_people_usually': 'Trish Iavarone',\n",
       " 'genres_from_genres': ['Erotica'],\n",
       " 'bisac_code_flat': 'FIC005000',\n",
       " 'title_flat': '31 Affairs',\n",
       " 'pdf_isbn10': '0744319498',\n",
       " 'pdf_isbn13': '9780744319491',\n",
       " 'paperback_isbn10': '0744321557',\n",
       " 'paperback_isbn13': '9780744321555',\n",
       " 'pdf_pub_date': datetime.datetime(2014, 9, 28, 0, 0),\n",
       " 'pdf_copyright_date': datetime.datetime(2014, 6, 10, 0, 0),\n",
       " 'paperback_pub_date': datetime.datetime(2014, 10, 13, 0, 0),\n",
       " 'paperback_copyright_date': nan,\n",
       " 'keywords_flat': 'affair, couples, fantasize, marriage, stimulate, steamy, forbidden, happy endings, sexual bucket list, erotica'}"
      ]
     },
     "execution_count": 41,
     "metadata": {},
     "output_type": "execute_result"
    }
   ],
   "source": [
    "titleDict[0]"
   ]
  },
  {
   "cell_type": "markdown",
   "metadata": {},
   "source": [
    "#### Time to map the isbn, pub_date, and copyright_date to formats"
   ]
  },
  {
   "cell_type": "code",
   "execution_count": 19,
   "metadata": {},
   "outputs": [],
   "source": [
    "#in pseudocode:\n",
    "#loop over format column:\n",
    "#    if key has value:\n",
    "#        check email_usually, isbn_col, pub_date, and copyright_date fields, checking same key\n",
    "#        generate new k:v pairs in the format formatvalue_field:field[key]\n",
    "#            make sure you break up isbn_col by ISBN10 vs 13\n",
    "#    if key has no value:\n",
    "#        assign previous row's format formatting to that.\n",
    "        "
   ]
  },
  {
   "cell_type": "code",
   "execution_count": 20,
   "metadata": {},
   "outputs": [],
   "source": [
    "\n",
    "\n",
    "def mapFormat(titleDict):\n",
    "    \"\"\"This take the title list, in array-of-dicts form, and maps the ISBNs in\n",
    "    the two columns to their corresponding format from the format column.\n",
    "    It will log errors in parsing the ISBNs to a new field.\"\"\"\n",
    "    \n",
    "    # will need this for the end to clean up\n",
    "    format_values = list(df.format.value_counts().index)\n",
    "    \n",
    "    #Loop over the array of dictionaries\n",
    "    for index, item in enumerate(titleDict):\n",
    "        \n",
    "        #then loop over the items in each title's format field\n",
    "        for key, value in item['format'].items():\n",
    "            if str(value) == 'nan':\n",
    "                continue\n",
    "                \n",
    "            # handle PDF versions. Looks like PDF/ePub ISBN10 is first,\n",
    "            # with ISBN13 in the next row.\n",
    "            elif str(value) == 'pdf':\n",
    "                try:\n",
    "                    \n",
    "                    # strip it of hyphens and trim any spaces, check for length\n",
    "                    if len(item['isbn_col'][key].replace(\"-\",\"\").replace(\" \",\"\"))==10:\n",
    "                        item['pdf_isbn10'] = item['isbn_col'][key].replace(\"-\",\"\").replace(\" \",\"\")\n",
    "                        if len(item['isbn_col'][key+1].replace(\"-\",\"\").replace(\" \",\"\"))==13:\n",
    "                            item['pdf_isbn13'] = item['isbn_col'][key+1].replace(\"-\",\"\").replace(\" \",\"\")\n",
    "                        else:\n",
    "                            print(\"pdf_ISBN13 at: \",index,\" is not 13 digits\")\n",
    "                            print(\"problem pdf_isbn13: \",item['isbn_col'][key+1].replace(\"-\",\"\").replace(\" \",\"\"))\n",
    "                            item['pdf_isbn13'] = item['isbn_col'][key+1].replace(\"-\",\"\").replace(\" \",\"\")\n",
    "                            item['error_parsing_pdf_isbn13'] = \"not 13 digits\"\n",
    "                    else:\n",
    "                        print(\"pdf_ISBN at: \",index,\" is not 10 digits\")\n",
    "                        item['error_parsing_pdf_isbn10'] = \"not 10 digits\"\n",
    "                        item['pdf_isbn10'] = item['isbn_col'][key].replace(\"-\",\"\").replace(\" \",\"\")\n",
    "\n",
    "                except Exception as e:\n",
    "                    print(e)\n",
    "                    item['error_parsing_pdf_isbn'] = e\n",
    "                    \n",
    "            # handle paperback versions. Typically ISBN13 is in the email_usually column\n",
    "            # and then ISBN10 is in the same row, but in the isbn_col column.\n",
    "            elif str(value) == 'paperback':\n",
    "                try:\n",
    "                    if len(item['isbn_col'][key].replace(\"-\",\"\").replace(\" \",\"\"))==10:\n",
    "                        item['paperback_isbn10'] = item['isbn_col'][key].replace(\"-\",\"\").replace(\" \",\"\")\n",
    "                        if len(item['email_usually'][key].replace(\"-\",\"\").replace(\" \",\"\"))==13:\n",
    "                            item['paperback_isbn13'] = item['email_usually'][key].replace(\"-\",\"\").replace(\" \",\"\")\n",
    "                        else:\n",
    "                            print(\"paperback_ISBN13 at: \",index,\" is not 13 digits\")\n",
    "                            item['error_parsing_paperback_isbn13'] = \"not 13 digits\"\n",
    "                            item['paperback_isbn13'] = item['email_usually'][key].replace(\"-\",\"\").replace(\" \",\"\")\n",
    "                    else:\n",
    "                        print(\"paperback_ISBN10 at: \",index,\" is not 10 digits\")\n",
    "                        item['paperback_isbn10'] = item['isbn_col'][key].replace(\"-\",\"\").replace(\" \",\"\")\n",
    "                        item['error_parsing_paperback_isbn10'] = \"not 10 digits\"\n",
    "\n",
    "                except Exception as e:\n",
    "                    print(e)\n",
    "                    item['error_parsing_paperback_isbn'] = e\n",
    "                    \n",
    "            #handle the special cases (Kindle, no value, )\n",
    "            else:\n",
    "                # LOL, this is definitely gonna fuck my algorithmic complexity, but yolo\n",
    "                # Gotta check for the VERY FEW \"weird\" format values and remind us to manually fix\n",
    "                for bookFormat in format_values:\n",
    "                    if str(value) == bookFormat:\n",
    "                        item['manual_check_special_ISBN_required'] = bookFormat\n",
    "    return titleDict"
   ]
  },
  {
   "cell_type": "code",
   "execution_count": 21,
   "metadata": {
    "scrolled": false
   },
   "outputs": [
    {
     "name": "stdout",
     "output_type": "stream",
     "text": [
      "pdf_ISBN13 at:  2  is not 13 digits\n",
      "problem pdf_isbn13:  978074307177\n",
      "paperback_ISBN10 at:  30  is not 10 digits\n",
      "'float' object has no attribute 'replace'\n",
      "pdf_ISBN13 at:  62  is not 13 digits\n",
      "problem pdf_isbn13:  978074419033\n",
      "pdf_ISBN at:  124  is not 10 digits\n",
      "paperback_ISBN10 at:  177  is not 10 digits\n",
      "622\n",
      "911\n",
      "pdf_ISBN at:  343  is not 10 digits\n",
      "pdf_ISBN at:  344  is not 10 digits\n",
      "paperback_ISBN13 at:  349  is not 13 digits\n",
      "pdf_ISBN at:  354  is not 10 digits\n",
      "paperback_ISBN10 at:  433  is not 10 digits\n",
      "paperback_ISBN13 at:  441  is not 13 digits\n"
     ]
    }
   ],
   "source": [
    "titleDict = mapFormat(titleDict)"
   ]
  },
  {
   "cell_type": "markdown",
   "metadata": {},
   "source": [
    "#### Map and flatten the pub dates to their respective formats"
   ]
  },
  {
   "cell_type": "code",
   "execution_count": 22,
   "metadata": {},
   "outputs": [],
   "source": [
    "def mapDates(titleDict):\n",
    "    \"\"\"Gonna map the pub dates and copyright dates to their respective\n",
    "    formats.\"\"\"\n",
    "    \n",
    "    # will need this for the end to clean up\n",
    "    format_values = list(df.format.value_counts().index)\n",
    "    \n",
    "    #Basically the same as the ISBN mapping logic\n",
    "    for index, item in enumerate(titleDict):\n",
    "        \n",
    "        #then loop over the items in each title's format field\n",
    "        for key, value in item['format'].items():\n",
    "            if str(value) == 'nan':\n",
    "                continue\n",
    "                \n",
    "            # handle PDF versions.\n",
    "            elif str(value) == 'pdf':\n",
    "                item['pdf_pub_date'] = item['pub_date'][key]\n",
    "                item['pdf_copyright_date'] = item['copyright_date'][key]\n",
    "            elif str(value) == 'paperback':\n",
    "                item['paperback_pub_date'] = item['pub_date'][key]\n",
    "                item['paperback_copyright_date'] = item['copyright_date'][key]\n",
    "            else:\n",
    "                for bookFormat in format_values:\n",
    "                    if str(value) == bookFormat:\n",
    "                        item[bookFormat+'_pub_date'] = item['pub_date'][key]\n",
    "                        item[bookFormat+'_copyright_date'] = item['copyright_date'][key]\n",
    "    return titleDict\n",
    "\n",
    "    "
   ]
  },
  {
   "cell_type": "code",
   "execution_count": 23,
   "metadata": {},
   "outputs": [],
   "source": [
    "titleDict = mapDates(titleDict)"
   ]
  },
  {
   "cell_type": "code",
   "execution_count": 42,
   "metadata": {
    "scrolled": true
   },
   "outputs": [
    {
     "data": {
      "text/plain": [
       "{'email_from_email_usually': 'trish117@earthlink.net',\n",
       " 'people_from_people_usually': 'Trish Iavarone',\n",
       " 'genres_from_genres': ['Erotica'],\n",
       " 'bisac_code_flat': 'FIC005000',\n",
       " 'title_flat': '31 Affairs',\n",
       " 'pdf_isbn10': '0744319498',\n",
       " 'pdf_isbn13': '9780744319491',\n",
       " 'paperback_isbn10': '0744321557',\n",
       " 'paperback_isbn13': '9780744321555',\n",
       " 'pdf_pub_date': datetime.datetime(2014, 9, 28, 0, 0),\n",
       " 'pdf_copyright_date': datetime.datetime(2014, 6, 10, 0, 0),\n",
       " 'paperback_pub_date': datetime.datetime(2014, 10, 13, 0, 0),\n",
       " 'paperback_copyright_date': nan,\n",
       " 'keywords_flat': 'affair, couples, fantasize, marriage, stimulate, steamy, forbidden, happy endings, sexual bucket list, erotica'}"
      ]
     },
     "execution_count": 42,
     "metadata": {},
     "output_type": "execute_result"
    }
   ],
   "source": [
    "titleDict[0]"
   ]
  },
  {
   "cell_type": "markdown",
   "metadata": {},
   "source": [
    "#### Time to put this bitch back into a flat DataFrame. Need to drop the old garbage columns."
   ]
  },
  {
   "cell_type": "code",
   "execution_count": 25,
   "metadata": {},
   "outputs": [
    {
     "name": "stdout",
     "output_type": "stream",
     "text": [
      "Vinni's Bed\n",
      "Vinni's Bed\n",
      "Vinni's Bed\n"
     ]
    }
   ],
   "source": [
    "# Check if contract_signed only ever has 1 value per title.\n",
    "for item in titleDict:\n",
    "    counter = 0\n",
    "    for value in item['contract_signed']:\n",
    "        if isinstance(item['contract_signed'][value],datetime.datetime):\n",
    "            counter += 1\n",
    "        if counter > 1:\n",
    "            print(item['title_flat'])\n",
    "        "
   ]
  },
  {
   "cell_type": "code",
   "execution_count": 26,
   "metadata": {},
   "outputs": [
    {
     "name": "stdout",
     "output_type": "stream",
     "text": [
      "no title_flat field\n"
     ]
    }
   ],
   "source": [
    "# Goddamnit, okay now I gotta add a second contract date to Vinni's stupid bed\n",
    "for item in titleDict:\n",
    "    try:\n",
    "        if item['title_flat'] == \"Vinni's Bed\":\n",
    "            item['SmashWords_contract_date'] = datetime.datetime(2019, 8, 12, 0, 0)\n",
    "            item['pdf_contract_date'] = datetime.datetime(2014, 1, 1, 0, 0)\n",
    "    except:\n",
    "        print('no title_flat field')"
   ]
  },
  {
   "cell_type": "code",
   "execution_count": 40,
   "metadata": {},
   "outputs": [
    {
     "data": {
      "text/plain": [
       "{'email_from_email_usually': 'trish117@earthlink.net',\n",
       " 'people_from_people_usually': 'Trish Iavarone',\n",
       " 'genres_from_genres': ['Erotica'],\n",
       " 'bisac_code_flat': 'FIC005000',\n",
       " 'title_flat': '31 Affairs',\n",
       " 'pdf_isbn10': '0744319498',\n",
       " 'pdf_isbn13': '9780744319491',\n",
       " 'paperback_isbn10': '0744321557',\n",
       " 'paperback_isbn13': '9780744321555',\n",
       " 'pdf_pub_date': datetime.datetime(2014, 9, 28, 0, 0),\n",
       " 'pdf_copyright_date': datetime.datetime(2014, 6, 10, 0, 0),\n",
       " 'paperback_pub_date': datetime.datetime(2014, 10, 13, 0, 0),\n",
       " 'paperback_copyright_date': nan,\n",
       " 'keywords_flat': 'affair, couples, fantasize, marriage, stimulate, steamy, forbidden, happy endings, sexual bucket list, erotica'}"
      ]
     },
     "execution_count": 40,
     "metadata": {},
     "output_type": "execute_result"
    }
   ],
   "source": [
    "titleDict[0]"
   ]
  },
  {
   "cell_type": "code",
   "execution_count": null,
   "metadata": {},
   "outputs": [],
   "source": []
  },
  {
   "cell_type": "code",
   "execution_count": 28,
   "metadata": {},
   "outputs": [],
   "source": [
    "# flatten keywords\n",
    "for item in titleDict:\n",
    "    for key, value in item['keywords'].items():\n",
    "        if str(value) == 'nan':\n",
    "            continue\n",
    "        else:\n",
    "            item['keywords_flat'] = item['keywords'][key]\n"
   ]
  },
  {
   "cell_type": "code",
   "execution_count": 29,
   "metadata": {},
   "outputs": [],
   "source": [
    "old_columns = ['title','subtitle','people_usually','email_usually',\n",
    "               'genres','isbn_col','format','bisac_code','pub_date',\n",
    "               'copyright_date','contract_signed','keywords']\n",
    "for item in titleDict:\n",
    "    for column in old_columns:\n",
    "        item.pop(column)"
   ]
  },
  {
   "cell_type": "code",
   "execution_count": 30,
   "metadata": {},
   "outputs": [],
   "source": [
    "df_flat = pd.DataFrame(titleDict)"
   ]
  },
  {
   "cell_type": "code",
   "execution_count": 31,
   "metadata": {},
   "outputs": [],
   "source": [
    "# convert the isbns to strings so Excel doesn't scientific-notate them\n",
    "# but probably won't work\n",
    "df_flat['pdf_isbn10'] = df_flat['pdf_isbn10'].apply(str)\n",
    "df_flat['pdf_isbn13'] = df_flat['pdf_isbn13'].apply(str)\n",
    "df_flat['paperback_isbn10'] = df_flat['paperback_isbn10'].apply(str)\n",
    "df_flat['paperback_isbn13'] = df_flat['paperback_isbn13'].apply(str)\n"
   ]
  },
  {
   "cell_type": "code",
   "execution_count": null,
   "metadata": {},
   "outputs": [],
   "source": []
  },
  {
   "cell_type": "code",
   "execution_count": 32,
   "metadata": {
    "scrolled": true
   },
   "outputs": [],
   "source": [
    "# strip the times off the publishing dates that got added\n",
    "df_flat['pdf_pub_date'] = [x.date() if isinstance(x,datetime.datetime) else x for x in df_flat['pdf_pub_date']]\n",
    "df_flat['paperback_pub_date'] = [x.date() if isinstance(x,datetime.datetime) else x for x in df_flat['paperback_pub_date']]\n",
    "df_flat['pdf_copyright_date'] = [x.date() if isinstance(x,datetime.datetime) else x for x in df_flat['pdf_copyright_date']]\n",
    "\n",
    "\n"
   ]
  },
  {
   "cell_type": "code",
   "execution_count": null,
   "metadata": {},
   "outputs": [],
   "source": []
  },
  {
   "cell_type": "code",
   "execution_count": 33,
   "metadata": {},
   "outputs": [],
   "source": [
    "\n",
    "for column in list(df_flat.columns):\n",
    "    df_flat[column] = [', '.join(x) if type(x)==list else x for x in df_flat[column]]\n"
   ]
  },
  {
   "cell_type": "code",
   "execution_count": 34,
   "metadata": {},
   "outputs": [
    {
     "data": {
      "text/plain": [
       "10    rhondasedwards@gmail.com, stooke@dorchester2.K...\n",
       "11                                 bryantarnold@cox.net\n",
       "12                              rossrichdale@icloud.com\n",
       "13                                 globuo01@hotmail.com\n",
       "14                         rodmacdonald1@btinternet.com\n",
       "15                                                  NaN\n",
       "16                            justinleemcfar@yahoo.com \n",
       "17                              elenamanchita@yahoo.com\n",
       "18                             lelandsmithson@gmail.com\n",
       "19           Christieshary@aol.com, hwrites@verizon.net\n",
       "Name: email_from_email_usually, dtype: object"
      ]
     },
     "execution_count": 34,
     "metadata": {},
     "output_type": "execute_result"
    }
   ],
   "source": [
    "df_flat['email_from_email_usually'][10:20]"
   ]
  },
  {
   "cell_type": "code",
   "execution_count": 35,
   "metadata": {},
   "outputs": [],
   "source": [
    "# df_flat.to_csv('flattened_v1.csv')"
   ]
  },
  {
   "cell_type": "code",
   "execution_count": 36,
   "metadata": {},
   "outputs": [
    {
     "data": {
      "text/plain": [
       "['email_from_email_usually',\n",
       " 'people_from_people_usually',\n",
       " 'genres_from_genres',\n",
       " 'bisac_code_flat',\n",
       " 'title_flat',\n",
       " 'pdf_isbn10',\n",
       " 'pdf_isbn13',\n",
       " 'paperback_isbn10',\n",
       " 'paperback_isbn13',\n",
       " 'pdf_pub_date',\n",
       " 'pdf_copyright_date',\n",
       " 'paperback_pub_date',\n",
       " 'paperback_copyright_date',\n",
       " 'keywords_flat',\n",
       " 'subtitle_flat',\n",
       " 'error_parsing_pdf_isbn13',\n",
       " 'extra_from_email_usually',\n",
       " 'error_parsing_paperback_isbn10',\n",
       " 'manual_check_special_ISBN_required',\n",
       " 'mobi_pub_date',\n",
       " 'mobi_copyright_date',\n",
       " 'error_parsing_paperback_isbn',\n",
       " 'spanish_pub_date',\n",
       " 'spanish_copyright_date',\n",
       " 'sw_pub_date',\n",
       " 'sw_copyright_date',\n",
       " 'error_parsing_pdf_isbn10',\n",
       " 'error_parsing_pdf_isbn',\n",
       " 'kindle_pub_date',\n",
       " 'kindle_copyright_date',\n",
       " 'error_parsing_paperback_isbn13',\n",
       " 'epub_pub_date',\n",
       " 'epub_copyright_date',\n",
       " 'paperback - 1st ed._pub_date',\n",
       " 'paperback - 1st ed._copyright_date',\n",
       " 'paperback - 2nd ed._pub_date',\n",
       " 'paperback - 2nd ed._copyright_date',\n",
       " 'smashwords_pub_date',\n",
       " 'smashwords_copyright_date',\n",
       " 'SmashWords_contract_date',\n",
       " 'pdf_contract_date']"
      ]
     },
     "execution_count": 36,
     "metadata": {},
     "output_type": "execute_result"
    }
   ],
   "source": [
    "list(df_flat.columns)"
   ]
  },
  {
   "cell_type": "code",
   "execution_count": 37,
   "metadata": {},
   "outputs": [],
   "source": [
    "#rearrange columns\n",
    "df_flat_rearranged = df_flat[[\n",
    "  'title_flat',\n",
    "  'subtitle_flat',\n",
    " 'people_from_people_usually',\n",
    " 'email_from_email_usually',\n",
    " 'genres_from_genres',\n",
    " 'bisac_code_flat',\n",
    " 'pdf_isbn10',\n",
    " 'pdf_isbn13',\n",
    " 'paperback_isbn10',\n",
    " 'paperback_isbn13',\n",
    " 'pdf_pub_date',\n",
    " 'pdf_copyright_date',\n",
    " 'paperback_pub_date',\n",
    " 'paperback_copyright_date',\n",
    " 'keywords_flat',\n",
    " 'error_parsing_pdf_isbn13',\n",
    " 'extra_from_email_usually',\n",
    " 'error_parsing_paperback_isbn10',\n",
    " 'manual_check_special_ISBN_required',\n",
    " 'mobi_pub_date',\n",
    " 'mobi_copyright_date',\n",
    " 'error_parsing_paperback_isbn',\n",
    " 'spanish_pub_date',\n",
    " 'spanish_copyright_date',\n",
    " 'sw_pub_date',\n",
    " 'sw_copyright_date',\n",
    " 'error_parsing_pdf_isbn10',\n",
    " 'error_parsing_pdf_isbn',\n",
    " 'kindle_pub_date',\n",
    " 'kindle_copyright_date',\n",
    " 'error_parsing_paperback_isbn13',\n",
    " 'epub_pub_date',\n",
    " 'epub_copyright_date',\n",
    " 'paperback - 1st ed._pub_date',\n",
    " 'paperback - 1st ed._copyright_date',\n",
    " 'paperback - 2nd ed._pub_date',\n",
    " 'paperback - 2nd ed._copyright_date',\n",
    " 'smashwords_pub_date',\n",
    " 'smashwords_copyright_date',\n",
    " 'SmashWords_contract_date',\n",
    " 'pdf_contract_date'\n",
    "]]\n"
   ]
  },
  {
   "cell_type": "code",
   "execution_count": 38,
   "metadata": {},
   "outputs": [],
   "source": [
    "df_flat_rearranged.rename(columns={\n",
    "    'title_flat': 'Title',\n",
    "    'subtitle_flat': 'Subtitle',\n",
    "    'people_from_people_usually': 'People',\n",
    "    'email_from_email_usually': 'Email',\n",
    "    'genres_from_genres': 'Genres',\n",
    "    'bisac_code_flat': 'BISAC Codes'},inplace=True)"
   ]
  },
  {
   "cell_type": "code",
   "execution_count": 39,
   "metadata": {},
   "outputs": [],
   "source": [
    "df_flat_rearranged.to_csv('flattened_v2.csv')"
   ]
  },
  {
   "cell_type": "code",
   "execution_count": null,
   "metadata": {},
   "outputs": [],
   "source": []
  }
 ],
 "metadata": {
  "kernelspec": {
   "display_name": "Python 3",
   "language": "python",
   "name": "python3"
  },
  "language_info": {
   "codemirror_mode": {
    "name": "ipython",
    "version": 3
   },
   "file_extension": ".py",
   "mimetype": "text/x-python",
   "name": "python",
   "nbconvert_exporter": "python",
   "pygments_lexer": "ipython3",
   "version": "3.7.4"
  }
 },
 "nbformat": 4,
 "nbformat_minor": 2
}
